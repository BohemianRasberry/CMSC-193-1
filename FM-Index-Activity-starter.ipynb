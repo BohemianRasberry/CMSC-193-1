{
 "cells": [
  {
   "cell_type": "markdown",
   "id": "12284616-7952-42cb-ac2a-2d4c857b1c2a",
   "metadata": {},
   "source": [
    "# FM-Index"
   ]
  },
  {
   "cell_type": "code",
   "execution_count": 8,
   "id": "42f55e77-9c33-438e-83b2-5e805f392b27",
   "metadata": {},
   "outputs": [],
   "source": [
    "def suffixArray(s):\n",
    "    ''' Given T return suffix array SA(T).  Uses \"sorted\"\n",
    "        function for simplicity, which is probably very slow. '''\n",
    "    satups = sorted([(s[i:], i) for i in range(len(s))])\n",
    "    return list(map(lambda x: x[1], satups)) # extract, return just offsets\n",
    "\n",
    "def bwtFromSa(t, sa=None):\n",
    "    ''' Given T, returns BWT(T) by way of the suffix array. '''\n",
    "    bw = []\n",
    "    dollarRow = None\n",
    "    if sa is None:\n",
    "        sa = suffixArray(t)\n",
    "    for si in sa:\n",
    "        if si == 0:\n",
    "            dollarRow = len(bw)\n",
    "            bw.append('$')\n",
    "        else:\n",
    "            bw.append(t[si-1])\n",
    "    return ''.join(bw), dollarRow # return string-ized version of list bw"
   ]
  },
  {
   "cell_type": "code",
   "execution_count": 2,
   "id": "a20dc10f-5acd-4e68-8205-10909166b6b7",
   "metadata": {},
   "outputs": [],
   "source": [
    "class FmCheckpoints(object):\n",
    "    ''' Manages rank checkpoints and handles rank queries, which are\n",
    "        O(1) time, with the checkpoints taking O(m) space, where m is\n",
    "        length of text. '''\n",
    "    \n",
    "    def __init__(self, bw, cpIval=4):\n",
    "        ''' Scan BWT, creating periodic checkpoints as we go '''\n",
    "        self.cps = {}        # checkpoints\n",
    "        self.cpIval = cpIval # spacing between checkpoints\n",
    "        tally = {}           # tally so far\n",
    "        # Create an entry in tally dictionary and checkpoint map for\n",
    "        # each distinct character in text\n",
    "        for c in bw:\n",
    "            if c not in tally:\n",
    "                tally[c] = 0\n",
    "                self.cps[c] = []\n",
    "        # Now build the checkpoints\n",
    "        for i, c in enumerate(bw):\n",
    "            tally[c] += 1 # up to *and including*\n",
    "            if i % cpIval == 0:\n",
    "                for c in tally.keys():\n",
    "                    self.cps[c].append(tally[c])\n",
    "    \n",
    "    def rank(self, bw, c, row):\n",
    "        ''' Return # c's there are in bw up to and including row '''\n",
    "        if row < 0 or c not in self.cps:\n",
    "            return 0\n",
    "        i, nocc = row, 0\n",
    "        # Always walk to left (up) when calculating rank\n",
    "        while (i % self.cpIval) != 0:\n",
    "            if bw[i] == c:\n",
    "                nocc += 1\n",
    "            i -= 1\n",
    "        return self.cps[c][i // self.cpIval] + nocc"
   ]
  },
  {
   "cell_type": "code",
   "execution_count": 9,
   "id": "bcc79c61-01a5-4413-9f92-d95c097bc8db",
   "metadata": {},
   "outputs": [],
   "source": [
    "class FmIndex():\n",
    "    ''' O(m) size FM Index, where checkpoints and suffix array samples are\n",
    "        spaced O(1) elements apart.  Queries like count() and range() are\n",
    "        O(n) where n is the length of the query.  Finding all k\n",
    "        occurrences of a length-n query string takes O(n + k) time.\n",
    "        \n",
    "        Note: The spacings in the suffix array sample and checkpoints can\n",
    "        be chosen differently to achieve different bounds. '''\n",
    "    \n",
    "    @staticmethod\n",
    "    def downsampleSuffixArray(sa, n=4):\n",
    "        ''' Take only the suffix-array entries for every nth suffix.  Keep\n",
    "            suffixes at offsets 0, n, 2n, etc with respect to the text.\n",
    "            Return map from the rows to their suffix-array values. '''\n",
    "        ssa = {}\n",
    "        for i, suf in enumerate(sa):\n",
    "            # We could use i % n instead of sa[i] % n, but we lose the\n",
    "            # constant-time guarantee for resolutions\n",
    "            if suf % n == 0:\n",
    "                ssa[i] = suf\n",
    "        return ssa\n",
    "    \n",
    "    def __init__(self, t, cpIval=4, ssaIval=4):\n",
    "        if t[-1] != '$':\n",
    "            t += '$' # add dollar if not there already\n",
    "        # Get BWT string and offset of $ within it\n",
    "        sa = suffixArray(t)\n",
    "        self.bwt, self.dollarRow = bwtFromSa(t, sa)\n",
    "        # Get downsampled suffix array, taking every 1 out of 'ssaIval'\n",
    "        # elements w/r/t T\n",
    "        self.ssa = self.downsampleSuffixArray(sa, ssaIval)\n",
    "        self.slen = len(self.bwt)\n",
    "        # Make rank checkpoints\n",
    "        self.cps = FmCheckpoints(self.bwt, cpIval)\n",
    "        # Calculate # occurrences of each character\n",
    "        tots = dict()\n",
    "        for c in self.bwt:\n",
    "            tots[c] = tots.get(c, 0) + 1\n",
    "        # Calculate concise representation of first column\n",
    "        self.first = {}\n",
    "        totc = 0\n",
    "        for c, count in sorted(tots.items()):\n",
    "            self.first[c] = totc\n",
    "            totc += count    \n",
    "    \n",
    "    def occurrences(self, p):\n",
    "        ''' Return offsets for all occurrences of p, in no particular order '''\n",
    "        # Implement this method\n",
    "        return [ ]"
   ]
  },
  {
   "cell_type": "code",
   "execution_count": 10,
   "id": "f7d04af6-2f8e-4512-aff9-773585599994",
   "metadata": {},
   "outputs": [],
   "source": [
    "fm = FmIndex('abaaba')"
   ]
  },
  {
   "cell_type": "code",
   "execution_count": null,
   "id": "7b31873e-b2f4-402b-94bb-52dea2516fa7",
   "metadata": {},
   "outputs": [],
   "source": [
    "p, t = \"CAT\", \"TTGTGTGCATGTTGTTTCATCATTTAGAGATACATTGCGCTGCATCATGGTCA\"\n",
    "#              01234567890123456789012345678901234567890123456789012\n",
    "# Occurrences:        *         *  *           *         *  *\n",
    "fm = FmIndex(t)\n",
    "matches = sorted(fm.occurrences(p))\n",
    "matches == [7, 17, 20, 32, 42, 45]"
   ]
  },
  {
   "cell_type": "code",
   "execution_count": null,
   "id": "b3d7ed2e-2b94-45de-9144-3dec560d7296",
   "metadata": {},
   "outputs": [],
   "source": []
  }
 ],
 "metadata": {
  "kernelspec": {
   "display_name": "Python 3 (ipykernel)",
   "language": "python",
   "name": "python3"
  },
  "language_info": {
   "codemirror_mode": {
    "name": "ipython",
    "version": 3
   },
   "file_extension": ".py",
   "mimetype": "text/x-python",
   "name": "python",
   "nbconvert_exporter": "python",
   "pygments_lexer": "ipython3",
   "version": "3.12.1"
  }
 },
 "nbformat": 4,
 "nbformat_minor": 5
}
