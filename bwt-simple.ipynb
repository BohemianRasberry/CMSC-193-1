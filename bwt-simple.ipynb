{
 "cells": [
  {
   "cell_type": "markdown",
   "id": "b78f66dc-a084-406a-80c2-7f56457f086f",
   "metadata": {},
   "source": [
    "# Burrows-Wheeler Transform"
   ]
  },
  {
   "cell_type": "code",
   "execution_count": 1,
   "id": "bd318b60-247d-4e92-bd85-13c8f9b5d3a5",
   "metadata": {},
   "outputs": [],
   "source": [
    "def rotations(t):\n",
    "    # Return list of rotations of input string t\n",
    "    tt = t * 2\n",
    "    return [ tt[i:i+len(t)] for i in range(len(t)) ]"
   ]
  },
  {
   "cell_type": "code",
   "execution_count": 2,
   "id": "799d6a42-cb61-42ee-9f07-c00c348f1fba",
   "metadata": {},
   "outputs": [
    {
     "data": {
      "text/plain": [
       "['abaaba$', 'baaba$a', 'aaba$ab', 'aba$aba', 'ba$abaa', 'a$abaab', '$abaaba']"
      ]
     },
     "execution_count": 2,
     "metadata": {},
     "output_type": "execute_result"
    }
   ],
   "source": [
    "rotations('abaaba$')"
   ]
  },
  {
   "cell_type": "code",
   "execution_count": 3,
   "id": "93ce34f7-cdab-422d-898b-5e56c7cd94fc",
   "metadata": {},
   "outputs": [],
   "source": [
    "def bwm(t):\n",
    "    # Return lexicographically sorted list of t’s rotations\n",
    "    return sorted(rotations(t))"
   ]
  },
  {
   "cell_type": "code",
   "execution_count": 4,
   "id": "0afd3e6d-e03c-439a-92e1-5b6da97bb436",
   "metadata": {},
   "outputs": [
    {
     "name": "stdout",
     "output_type": "stream",
     "text": [
      "$abaaba\n",
      "a$abaab\n",
      "aaba$ab\n",
      "aba$aba\n",
      "abaaba$\n",
      "ba$abaa\n",
      "baaba$a\n"
     ]
    }
   ],
   "source": [
    "print('\\n'.join(bwm('abaaba$')))"
   ]
  },
  {
   "cell_type": "code",
   "execution_count": 5,
   "id": "4054325c-3cee-4550-ba29-8921880bdf60",
   "metadata": {},
   "outputs": [],
   "source": [
    "def bwtViaBwm(t):\n",
    "    # Given T, returns BWT(T) by way of the BWM\n",
    "    return ''.join(map(lambda x: x[-1], bwm(t)))"
   ]
  },
  {
   "cell_type": "code",
   "execution_count": 6,
   "id": "0de79b08-8d80-4b06-ae9e-b91635e47b9e",
   "metadata": {},
   "outputs": [
    {
     "data": {
      "text/plain": [
       "'abba$aa'"
      ]
     },
     "execution_count": 6,
     "metadata": {},
     "output_type": "execute_result"
    }
   ],
   "source": [
    "bwtViaBwm('abaaba$') # we can see the result equals the last column of the matrix above"
   ]
  },
  {
   "cell_type": "code",
   "execution_count": 7,
   "id": "c98ace48-243a-4e96-ab6c-33529bd1e5ca",
   "metadata": {},
   "outputs": [
    {
     "data": {
      "text/plain": [
       "'w$wwdd__nnoooaattTmmmrrrrrrooo__ooo'"
      ]
     },
     "execution_count": 7,
     "metadata": {},
     "output_type": "execute_result"
    }
   ],
   "source": [
    "bwtViaBwm('Tomorrow_and_tomorrow_and_tomorrow$')"
   ]
  },
  {
   "cell_type": "code",
   "execution_count": 8,
   "id": "109b364e-1c05-4e96-a170-b607064f776d",
   "metadata": {},
   "outputs": [
    {
     "data": {
      "text/plain": [
       "'s$esttssfftteww_hhmmbootttt_ii__woeeaaressIi_______'"
      ]
     },
     "execution_count": 8,
     "metadata": {},
     "output_type": "execute_result"
    }
   ],
   "source": [
    "bwtViaBwm('It_was_the_best_of_times_it_was_the_worst_of_times$')"
   ]
  },
  {
   "cell_type": "code",
   "execution_count": 9,
   "id": "5d656a15-e86c-468b-8ba9-bedaab67b9c1",
   "metadata": {},
   "outputs": [
    {
     "data": {
      "text/plain": [
       "'u_gleeeengj_mlhl_nnnnt$nwj__lggIolo_iiiiarfcmylo_oo_'"
      ]
     },
     "execution_count": 9,
     "metadata": {},
     "output_type": "execute_result"
    }
   ],
   "source": [
    "bwtViaBwm('in_the_jingle_jangle_morning_Ill_come_following_you$')"
   ]
  },
  {
   "cell_type": "markdown",
   "id": "584ba6fa-630c-4c77-a175-c9fc624a9980",
   "metadata": {},
   "source": [
    "## Relation between BWT and Suffix Array"
   ]
  },
  {
   "cell_type": "code",
   "execution_count": 10,
   "id": "841537ed-001d-4132-b18a-b3cfb1e9e87f",
   "metadata": {},
   "outputs": [],
   "source": [
    "def suffixArray(s):\n",
    "    '''\n",
    "    Given T return suffix array SA(T). We use Python's sorted\n",
    "    function here for simplicity, but we can do better.\n",
    "    '''\n",
    "    satups = sorted([(s[i:], i) for i in range(len(s))])\n",
    "    # Extract and return just the offsets\n",
    "    return map(lambda x: x[1], satups)\n",
    "\n",
    "def bwtViaSa(t):\n",
    "    # Given T, returns BWT(T) by way of the suffix array\n",
    "    bw = []\n",
    "    for si in suffixArray(t):\n",
    "        if si == 0:\n",
    "            bw.append('$')\n",
    "        else:\n",
    "            bw.append(t[si-1])\n",
    "    return ''.join(bw) # return string-ized version of list bw"
   ]
  },
  {
   "cell_type": "code",
   "execution_count": 11,
   "id": "0d965ed4-21a5-4050-be2f-3848231a9aea",
   "metadata": {},
   "outputs": [
    {
     "name": "stdout",
     "output_type": "stream",
     "text": [
      "abba$aa\n",
      "abba$aa\n"
     ]
    }
   ],
   "source": [
    "print(bwtViaBwm('abaaba$'))\n",
    "print(bwtViaSa('abaaba$'))"
   ]
  },
  {
   "cell_type": "code",
   "execution_count": 12,
   "id": "e4017d9f-b34b-439f-9893-18784cb11a9d",
   "metadata": {},
   "outputs": [
    {
     "name": "stdout",
     "output_type": "stream",
     "text": [
      "w$wwdd__nnoooaattTmmmrrrrrrooo__ooo\n",
      "w$wwdd__nnoooaattTmmmrrrrrrooo__ooo\n"
     ]
    }
   ],
   "source": [
    "print(bwtViaBwm('Tomorrow_and_tomorrow_and_tomorrow$'))\n",
    "print(bwtViaSa('Tomorrow_and_tomorrow_and_tomorrow$'))"
   ]
  },
  {
   "cell_type": "code",
   "execution_count": 13,
   "id": "016dd42d-3cda-4124-9617-c6a80c090582",
   "metadata": {},
   "outputs": [
    {
     "name": "stdout",
     "output_type": "stream",
     "text": [
      "s$esttssfftteww_hhmmbootttt_ii__woeeaaressIi_______\n",
      "s$esttssfftteww_hhmmbootttt_ii__woeeaaressIi_______\n"
     ]
    }
   ],
   "source": [
    "print(bwtViaBwm('It_was_the_best_of_times_it_was_the_worst_of_times$'))\n",
    "print(bwtViaSa('It_was_the_best_of_times_it_was_the_worst_of_times$'))"
   ]
  },
  {
   "cell_type": "code",
   "execution_count": 14,
   "id": "c29c49d0-f6bd-4a44-a597-c93e41ef9a06",
   "metadata": {},
   "outputs": [
    {
     "name": "stdout",
     "output_type": "stream",
     "text": [
      "u_gleeeengj_mlhl_nnnnt$nwj__lggIolo_iiiiarfcmylo_oo_\n",
      "u_gleeeengj_mlhl_nnnnt$nwj__lggIolo_iiiiarfcmylo_oo_\n"
     ]
    }
   ],
   "source": [
    "print(bwtViaBwm('in_the_jingle_jangle_morning_Ill_come_following_you$'))\n",
    "print(bwtViaSa('in_the_jingle_jangle_morning_Ill_come_following_you$'))"
   ]
  },
  {
   "cell_type": "markdown",
   "id": "6ccc266d-5cb8-49a9-aab6-910fb499bcf7",
   "metadata": {},
   "source": [
    "## BWT Reversing"
   ]
  },
  {
   "cell_type": "code",
   "execution_count": 15,
   "id": "3654ebd1-df36-4902-ae93-3d06d1539957",
   "metadata": {},
   "outputs": [
    {
     "data": {
      "text/plain": [
       "'abba$aa'"
      ]
     },
     "execution_count": 15,
     "metadata": {},
     "output_type": "execute_result"
    }
   ],
   "source": [
    "t = 'abaaba$'\n",
    "b = bwtViaBwm(t)\n",
    "b"
   ]
  },
  {
   "cell_type": "code",
   "execution_count": 17,
   "id": "7b5643de-d041-4286-ba96-dec97539b134",
   "metadata": {},
   "outputs": [],
   "source": [
    "def rankBwt(bw):\n",
    "    ''' \n",
    "    Given BWT string bw, return parallel list of B-ranks.  Also\n",
    "    returns tots: map from character to # times it appears. \n",
    "    '''\n",
    "    tots = dict()\n",
    "    ranks = []\n",
    "    for c in bw:\n",
    "        if c not in tots:\n",
    "            tots[c] = 0\n",
    "        ranks.append(tots[c])\n",
    "        tots[c] += 1\n",
    "    return ranks, tots"
   ]
  },
  {
   "cell_type": "code",
   "execution_count": 23,
   "id": "8d4c343f-0f14-48b6-b410-7f43bae9f1d7",
   "metadata": {},
   "outputs": [
    {
     "name": "stdout",
     "output_type": "stream",
     "text": [
      "('a', 0)\n",
      "('b', 0)\n",
      "('b', 1)\n",
      "('a', 1)\n",
      "('$', 0)\n",
      "('a', 2)\n",
      "('a', 3)\n",
      "a 4\n",
      "b 2\n",
      "$ 1\n"
     ]
    }
   ],
   "source": [
    "ranks, tots = rankBwt(b)\n",
    "# print characters of BWT(T) in order, along with rank\n",
    "for i in zip(b, ranks): \n",
    "    print(i)\n",
    "for i in tots:\n",
    "    print(i, tots[i])"
   ]
  },
  {
   "cell_type": "code",
   "execution_count": 24,
   "id": "d7f830a1-0fab-4550-a42f-5ee087f3438c",
   "metadata": {},
   "outputs": [],
   "source": [
    "def firstCol(tots):\n",
    "    ''' \n",
    "    Return map from character to the range of rows prefixed by\n",
    "    the character. \n",
    "    '''\n",
    "    first = {}\n",
    "    totc = 0\n",
    "    for c, count in sorted(tots.items()):\n",
    "        first[c] = (totc, totc + count)\n",
    "        totc += count\n",
    "    return first"
   ]
  },
  {
   "cell_type": "code",
   "execution_count": 25,
   "id": "d083f34a-c4db-42ae-a145-d62f55979927",
   "metadata": {},
   "outputs": [
    {
     "data": {
      "text/plain": [
       "{'$': (0, 1), 'a': (1, 5), 'b': (5, 7)}"
      ]
     },
     "execution_count": 25,
     "metadata": {},
     "output_type": "execute_result"
    }
   ],
   "source": [
    "firstCol(tots)"
   ]
  },
  {
   "cell_type": "code",
   "execution_count": 26,
   "id": "07a840ba-c077-48bf-abc9-97852af86882",
   "metadata": {},
   "outputs": [
    {
     "name": "stdout",
     "output_type": "stream",
     "text": [
      "$abaaba\n",
      "a$abaab\n",
      "aaba$ab\n",
      "aba$aba\n",
      "abaaba$\n",
      "ba$abaa\n",
      "baaba$a\n"
     ]
    }
   ],
   "source": [
    "# confirm that the representation of the first column above is sensible\n",
    "print('\\n'.join(bwm(t)))"
   ]
  },
  {
   "cell_type": "code",
   "execution_count": 27,
   "id": "71bcba92-31bb-4d0e-b877-8d93ed6b1ab8",
   "metadata": {},
   "outputs": [],
   "source": [
    "def reverseBwt(bw):\n",
    "    ''' Make T from BWT(T) '''\n",
    "    ranks, tots = rankBwt(bw)\n",
    "    first = firstCol(tots)\n",
    "    rowi = 0 # start in first row\n",
    "    t = '$' # start with rightmost character\n",
    "    while bw[rowi] != '$':\n",
    "        c = bw[rowi]\n",
    "        t = c + t # prepend to answer\n",
    "        # jump to row that starts with c of same rank\n",
    "        rowi = first[c][0] + ranks[rowi]\n",
    "    return t"
   ]
  },
  {
   "cell_type": "code",
   "execution_count": 28,
   "id": "729e6322-3e57-47e4-9c6f-d198a7747014",
   "metadata": {},
   "outputs": [
    {
     "data": {
      "text/plain": [
       "'abaaba$'"
      ]
     },
     "execution_count": 28,
     "metadata": {},
     "output_type": "execute_result"
    }
   ],
   "source": [
    "reverseBwt(b)"
   ]
  },
  {
   "cell_type": "code",
   "execution_count": 29,
   "id": "9a0b5c66-ef2f-4177-b6d8-23ba4e1885e7",
   "metadata": {},
   "outputs": [
    {
     "data": {
      "text/plain": [
       "'It_was_the_best_of_times_it_was_the_worst_of_times$'"
      ]
     },
     "execution_count": 29,
     "metadata": {},
     "output_type": "execute_result"
    }
   ],
   "source": [
    "reverseBwt(bwtViaBwm('It_was_the_best_of_times_it_was_the_worst_of_times$'))"
   ]
  },
  {
   "cell_type": "code",
   "execution_count": null,
   "id": "13e83b69-0e48-4980-861e-f3a29d368f2d",
   "metadata": {},
   "outputs": [],
   "source": []
  }
 ],
 "metadata": {
  "kernelspec": {
   "display_name": "Python 3 (ipykernel)",
   "language": "python",
   "name": "python3"
  },
  "language_info": {
   "codemirror_mode": {
    "name": "ipython",
    "version": 3
   },
   "file_extension": ".py",
   "mimetype": "text/x-python",
   "name": "python",
   "nbconvert_exporter": "python",
   "pygments_lexer": "ipython3",
   "version": "3.12.1"
  }
 },
 "nbformat": 4,
 "nbformat_minor": 5
}
