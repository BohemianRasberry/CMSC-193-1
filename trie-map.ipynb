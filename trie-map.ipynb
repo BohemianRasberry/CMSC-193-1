{
 "cells": [
  {
   "cell_type": "code",
   "execution_count": 1,
   "id": "26b353a9-aed2-476d-9b21-3297cbb0b99a",
   "metadata": {},
   "outputs": [],
   "source": [
    "class TrieMap(object):\n",
    "    \"\"\" Trie implementation of a map.  Associating keys (strings or other\n",
    "        sequence type) with values.  Values can be any type. \"\"\"\n",
    "    \n",
    "    def __init__(self, kvs):\n",
    "        self.root = {}\n",
    "        # For each key (string)/value pair\n",
    "        for (k, v) in kvs: self.add(k, v)\n",
    "    \n",
    "    def add(self, k, v):\n",
    "        \"\"\" Add a key-value pair \"\"\"\n",
    "        cur = self.root\n",
    "        for c in k: # for each character in the string\n",
    "            if c not in cur:\n",
    "                cur[c] = {} # if not there, make new edge on character c\n",
    "            cur = cur[c]\n",
    "        cur['value'] = v # at the end of the path, add the value\n",
    "    \n",
    "    def query(self, k):\n",
    "        \"\"\" Given key, return associated value or None \"\"\"\n",
    "        cur = self.root\n",
    "        for c in k:\n",
    "            if c not in cur:\n",
    "                return None # key wasn't in the trie\n",
    "            cur = cur[c]\n",
    "        # get value, or None if there's no value associated with this node\n",
    "        return cur.get('value')"
   ]
  },
  {
   "cell_type": "code",
   "execution_count": 6,
   "id": "2b9fc939-01bf-4dd7-907a-5df9999684c2",
   "metadata": {},
   "outputs": [],
   "source": [
    "kmerMap = TrieMap([('ac', 4), ('ag', 8), ('at', 14), ('cc', [12, 2]), ('ct', 6), ('gt', [18, 0]), ('ta', 10), ('tt', 16)])"
   ]
  },
  {
   "cell_type": "code",
   "execution_count": 7,
   "id": "6e3a33c8-0026-4317-99d3-a7dce49b1fa5",
   "metadata": {},
   "outputs": [
    {
     "data": {
      "text/plain": [
       "4"
      ]
     },
     "execution_count": 7,
     "metadata": {},
     "output_type": "execute_result"
    }
   ],
   "source": [
    "kmerMap.query('ac')"
   ]
  },
  {
   "cell_type": "code",
   "execution_count": 8,
   "id": "837b80ca-e6cb-425c-b956-02d811f8aff8",
   "metadata": {},
   "outputs": [
    {
     "data": {
      "text/plain": [
       "[18, 0]"
      ]
     },
     "execution_count": 8,
     "metadata": {},
     "output_type": "execute_result"
    }
   ],
   "source": [
    "kmerMap.query('gt')"
   ]
  },
  {
   "cell_type": "code",
   "execution_count": 9,
   "id": "fd175ec0-adc8-42e1-a96a-7f8ca52fe412",
   "metadata": {},
   "outputs": [
    {
     "data": {
      "text/plain": [
       "[12, 2]"
      ]
     },
     "execution_count": 9,
     "metadata": {},
     "output_type": "execute_result"
    }
   ],
   "source": [
    "kmerMap.query('cc')"
   ]
  },
  {
   "cell_type": "code",
   "execution_count": 10,
   "id": "28b7ac20-9234-4ed8-8a4e-2237352616a8",
   "metadata": {},
   "outputs": [],
   "source": [
    "kmerMap.query('a')"
   ]
  },
  {
   "cell_type": "code",
   "execution_count": null,
   "id": "5ebd959a-9b50-456c-8e74-20dfcd1f7fe5",
   "metadata": {},
   "outputs": [],
   "source": []
  }
 ],
 "metadata": {
  "kernelspec": {
   "display_name": "Python 3 (ipykernel)",
   "language": "python",
   "name": "python3"
  },
  "language_info": {
   "codemirror_mode": {
    "name": "ipython",
    "version": 3
   },
   "file_extension": ".py",
   "mimetype": "text/x-python",
   "name": "python",
   "nbconvert_exporter": "python",
   "pygments_lexer": "ipython3",
   "version": "3.12.1"
  }
 },
 "nbformat": 4,
 "nbformat_minor": 5
}
