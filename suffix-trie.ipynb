{
 "cells": [
  {
   "cell_type": "code",
   "execution_count": 13,
   "id": "c22f61e1-bf4f-4f3b-abf8-40969552ec79",
   "metadata": {},
   "outputs": [],
   "source": [
    "class SuffixTrie(object):\n",
    "    \"\"\" Encapsulates a suffix trie of a provided string t \"\"\"\n",
    "    \n",
    "    def __init__(self, t):\n",
    "        \"\"\" Make suffix trie from t \"\"\"\n",
    "        t += '$'  # terminator symbol\n",
    "        self.root = {}\n",
    "        for i in range(len(t)):  # for each suffix\n",
    "            cur = self.root\n",
    "            for c in t[i:]:  # for each character in i'th suffix\n",
    "                if c not in cur:\n",
    "                    cur[c] = {}  # add outgoing edge if necessary\n",
    "                cur = cur[c]\n",
    "    \n",
    "    def follow_path(self, s):\n",
    "        \"\"\" Follow path given by characters of s.  Return node at\n",
    "            end of path, or None if we fall off. \"\"\"\n",
    "        cur = self.root\n",
    "        for c in s:\n",
    "            if c not in cur:\n",
    "                return None  # no outgoing edge on next character\n",
    "            cur = cur[c]  # descend one level\n",
    "        return cur\n",
    "    \n",
    "    def has_substring(self, s):\n",
    "        \"\"\" Return true if s appears as a substring of t \"\"\"\n",
    "        return self.follow_path(s) is not None\n",
    "    \n",
    "    def has_suffix(self, s):\n",
    "        \"\"\" Return true if s is a suffix of t \"\"\"\n",
    "        node = self.follow_path(s)\n",
    "        return node is not None and '$' in node\n"
   ]
  },
  {
   "cell_type": "code",
   "execution_count": 14,
   "id": "e81ad85b-ab00-472e-8e66-dbc91aca22c1",
   "metadata": {},
   "outputs": [],
   "source": [
    "strie = SuffixTrie('there would have been a time for such a word')"
   ]
  },
  {
   "cell_type": "code",
   "execution_count": 15,
   "id": "c71afc1f-b435-4846-82af-2a8c9479ea36",
   "metadata": {},
   "outputs": [
    {
     "data": {
      "text/plain": [
       "False"
      ]
     },
     "execution_count": 15,
     "metadata": {},
     "output_type": "execute_result"
    }
   ],
   "source": [
    "strie.has_substring('nope')"
   ]
  },
  {
   "cell_type": "code",
   "execution_count": 16,
   "id": "37bd9ee0-09b9-4418-a46d-78a4460d0854",
   "metadata": {},
   "outputs": [
    {
     "data": {
      "text/plain": [
       "True"
      ]
     },
     "execution_count": 16,
     "metadata": {},
     "output_type": "execute_result"
    }
   ],
   "source": [
    "strie.has_substring('would have been')"
   ]
  },
  {
   "cell_type": "code",
   "execution_count": 17,
   "id": "4178c987-909c-4c83-83c0-82fc982bbafe",
   "metadata": {},
   "outputs": [
    {
     "data": {
      "text/plain": [
       "True"
      ]
     },
     "execution_count": 17,
     "metadata": {},
     "output_type": "execute_result"
    }
   ],
   "source": [
    "strie.has_substring('such a word')"
   ]
  },
  {
   "cell_type": "code",
   "execution_count": null,
   "id": "041b8f46-9971-4e62-88c3-67d0bd8fb097",
   "metadata": {},
   "outputs": [],
   "source": []
  }
 ],
 "metadata": {
  "kernelspec": {
   "display_name": "Python 3 (ipykernel)",
   "language": "python",
   "name": "python3"
  },
  "language_info": {
   "codemirror_mode": {
    "name": "ipython",
    "version": 3
   },
   "file_extension": ".py",
   "mimetype": "text/x-python",
   "name": "python",
   "nbconvert_exporter": "python",
   "pygments_lexer": "ipython3",
   "version": "3.12.1"
  }
 },
 "nbformat": 4,
 "nbformat_minor": 5
}
