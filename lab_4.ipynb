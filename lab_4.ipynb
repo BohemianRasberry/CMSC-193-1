{
 "cells": [
  {
   "cell_type": "code",
   "execution_count": 204,
   "metadata": {},
   "outputs": [],
   "source": [
    "class SuffixTrie(object):\n",
    "    \"\"\" Encapsulates a suffix trie of a provided string t \"\"\"\n",
    "    \n",
    "    def __init__(self, t):\n",
    "        \"\"\" Make suffix trie from t \"\"\"\n",
    "        t += '$'  # terminator symbol\n",
    "        self.root = {}\n",
    "        self.t = t  # Store the original string for later use\n",
    "        \n",
    "        for i in range(len(t)):  # for each suffix\n",
    "            cur = self.root\n",
    "            for c in t[i:]:  # for each character in i'th suffix\n",
    "                if c not in cur:\n",
    "                    cur[c] = {}  # add outgoing edge if necessary\n",
    "                cur = cur[c]\n",
    "    \n",
    "    def follow_path(self, s):\n",
    "        \"\"\" Follow path given by characters of s.  Return node at\n",
    "            end of path, or None if we fall off. \"\"\"\n",
    "        cur = self.root\n",
    "        for c in s:\n",
    "            if c not in cur:\n",
    "                return None  # no outgoing edge on next character\n",
    "            cur = cur[c]  # descend one level\n",
    "        return cur\n",
    "    \n",
    "    def has_substring(self, s):\n",
    "        \"\"\" Return true if s appears as a substring of t \"\"\"\n",
    "        return self.follow_path(s) is not None\n",
    "    \n",
    "    def has_suffix(self, s):\n",
    "        \"\"\" Return true if s is a suffix of t \"\"\"\n",
    "        node = self.follow_path(s)\n",
    "        return node is not None and '$' in node\n",
    "    \n",
    "    def count_occurrences(self, s):\n",
    "        \"\"\" Print the number of times string s occurs in the text \"\"\"\n",
    "        count = 0\n",
    "        i = 0\n",
    "        while i <= len(self.t) - len(s):  # While in string len\n",
    "            if self.t[i:i+len(s)] == s:  # Compare substring of length len(s) with s\n",
    "                count += 1\n",
    "                i += len(s)  # Move to the next position after the matched substring\n",
    "            else:\n",
    "                i += 1  # Move to the next character\n",
    "        print(\"Number of occurrences of '{}': {}\".format(s, count))\n",
    "    \n",
    "    def longest_substring(self):\n",
    "        \"\"\" Print the longest substring of the text \"\"\"\n",
    "        n = len(self.t)\n",
    "        longest = \"\"\n",
    "        cur = \"\"\n",
    "        node = self.root\n",
    "        for i in range(n):\n",
    "            c = self.t[i]\n",
    "            node = node.get(c)\n",
    "            if node is None:\n",
    "                if len(cur) > len(longest):\n",
    "                    longest = cur\n",
    "                cur = \"\"\n",
    "                node = self.root\n",
    "            else:\n",
    "                cur += c\n",
    "                if '$' in node:  # Check if it's a valid suffix\n",
    "                    if len(cur) > len(longest):\n",
    "                        longest = cur\n",
    "                    cur = \"\"  # Reset cur for next potential suffix\n",
    "        print(\"Longest substring:\", longest)"
   ]
  },
  {
   "cell_type": "code",
   "execution_count": 205,
   "metadata": {},
   "outputs": [],
   "source": [
    "strie = SuffixTrie('there would have been a time for such a word')\n",
    "test_strie = SuffixTrie('there would have been a time for such a word there would have been a time for such a word there would have been a time for such a word')"
   ]
  },
  {
   "cell_type": "code",
   "execution_count": 206,
   "metadata": {},
   "outputs": [
    {
     "data": {
      "text/plain": [
       "False"
      ]
     },
     "execution_count": 206,
     "metadata": {},
     "output_type": "execute_result"
    }
   ],
   "source": [
    "strie.has_substring('nope')"
   ]
  },
  {
   "cell_type": "code",
   "execution_count": 207,
   "metadata": {},
   "outputs": [
    {
     "data": {
      "text/plain": [
       "True"
      ]
     },
     "execution_count": 207,
     "metadata": {},
     "output_type": "execute_result"
    }
   ],
   "source": [
    "strie.has_substring('would have been')"
   ]
  },
  {
   "cell_type": "code",
   "execution_count": 208,
   "metadata": {},
   "outputs": [
    {
     "data": {
      "text/plain": [
       "True"
      ]
     },
     "execution_count": 208,
     "metadata": {},
     "output_type": "execute_result"
    }
   ],
   "source": [
    "test_strie.has_substring('would have been')"
   ]
  },
  {
   "cell_type": "code",
   "execution_count": 209,
   "metadata": {},
   "outputs": [
    {
     "data": {
      "text/plain": [
       "True"
      ]
     },
     "execution_count": 209,
     "metadata": {},
     "output_type": "execute_result"
    }
   ],
   "source": [
    "strie.has_substring('such a word')"
   ]
  },
  {
   "cell_type": "code",
   "execution_count": 210,
   "metadata": {},
   "outputs": [
    {
     "data": {
      "text/plain": [
       "True"
      ]
     },
     "execution_count": 210,
     "metadata": {},
     "output_type": "execute_result"
    }
   ],
   "source": [
    "test_strie.has_substring('such a word')"
   ]
  },
  {
   "cell_type": "code",
   "execution_count": 211,
   "metadata": {},
   "outputs": [
    {
     "name": "stdout",
     "output_type": "stream",
     "text": [
      "Number of occurrences of 'would have been': 1\n"
     ]
    }
   ],
   "source": [
    "strie.count_occurrences('would have been')"
   ]
  },
  {
   "cell_type": "code",
   "execution_count": 212,
   "metadata": {},
   "outputs": [
    {
     "name": "stdout",
     "output_type": "stream",
     "text": [
      "Number of occurrences of 'would have been': 3\n"
     ]
    }
   ],
   "source": [
    "test_strie.count_occurrences('would have been')"
   ]
  },
  {
   "cell_type": "code",
   "execution_count": 213,
   "metadata": {},
   "outputs": [
    {
     "name": "stdout",
     "output_type": "stream",
     "text": [
      "Longest substring: there would have been a time for such a word\n"
     ]
    }
   ],
   "source": [
    "strie.longest_substring()"
   ]
  },
  {
   "cell_type": "code",
   "execution_count": 214,
   "metadata": {},
   "outputs": [
    {
     "name": "stdout",
     "output_type": "stream",
     "text": [
      "Longest substring:  there would have been a time for such a word\n"
     ]
    }
   ],
   "source": [
    "test_strie.longest_substring()"
   ]
  }
 ],
 "metadata": {
  "kernelspec": {
   "display_name": "Python 3",
   "language": "python",
   "name": "python3"
  },
  "language_info": {
   "codemirror_mode": {
    "name": "ipython",
    "version": 3
   },
   "file_extension": ".py",
   "mimetype": "text/x-python",
   "name": "python",
   "nbconvert_exporter": "python",
   "pygments_lexer": "ipython3",
   "version": "3.10.0"
  }
 },
 "nbformat": 4,
 "nbformat_minor": 2
}
