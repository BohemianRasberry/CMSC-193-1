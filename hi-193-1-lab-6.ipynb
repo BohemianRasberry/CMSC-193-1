{
 "cells": [
  {
   "cell_type": "code",
   "execution_count": 1,
   "metadata": {},
   "outputs": [],
   "source": [
    "# Not a great way to build a suffix array, but we'll use it\n",
    "# for the small examples here\n",
    "def naiveBuildSA(t):\n",
    "    satups = sorted([(t[i:], i) for i in range(len(t))])\n",
    "    return list(map(lambda x: x[1], satups))"
   ]
  },
  {
   "cell_type": "code",
   "execution_count": 2,
   "metadata": {},
   "outputs": [],
   "source": [
    "# Simple function calculating LCP of two strings\n",
    "def lcp(x, y):\n",
    "    for i in range(min(len(x), len(y))):\n",
    "        if x[i] != y[i]:\n",
    "            return i\n",
    "    return min(len(x), len(y))\n"
   ]
  },
  {
   "cell_type": "code",
   "execution_count": 3,
   "metadata": {},
   "outputs": [],
   "source": [
    "def search_pattern_with_lcp(S, P):\n",
    "    SA = naiveBuildSA(S)\n",
    "    LCP = [lcp(S[SA[i]:], S[SA[i + 1]:]) for i in range(len(SA) - 1)]\n",
    "    \n",
    "    for i in range(len(SA)):\n",
    "        # Compare the suffix with the pattern\n",
    "        if S[SA[i]:SA[i] + len(P)] == P:\n",
    "            return SA[i]  # Pattern found at index SA[i]\n",
    "\n",
    "    return -1  # Pattern not found\n"
   ]
  },
  {
   "cell_type": "code",
   "execution_count": 4,
   "metadata": {},
   "outputs": [],
   "source": [
    "def check_pattern(result):\n",
    "    if result != -1:\n",
    "        print(f\"Pattern '{P}' found at index {result} in string '{S}'.\")\n",
    "    else:\n",
    "        print(f\"Pattern '{P}' not found in string '{S}'.\")"
   ]
  },
  {
   "cell_type": "code",
   "execution_count": 5,
   "metadata": {},
   "outputs": [],
   "source": [
    "# Example usage:\n",
    "S = 'abaaba$'\n",
    "P = 'aba'"
   ]
  },
  {
   "cell_type": "code",
   "execution_count": 6,
   "metadata": {},
   "outputs": [
    {
     "name": "stdout",
     "output_type": "stream",
     "text": [
      "Pattern 'aba' found at index 3 in string 'abaaba$'.\n"
     ]
    }
   ],
   "source": [
    "result = search_pattern_with_lcp(S, P)\n",
    "check_pattern(result)"
   ]
  },
  {
   "cell_type": "code",
   "execution_count": 7,
   "metadata": {},
   "outputs": [
    {
     "name": "stdout",
     "output_type": "stream",
     "text": [
      "Pattern 'banana' found at index 0 in string 'banana$'.\n"
     ]
    }
   ],
   "source": [
    "S = 'banana$'\n",
    "P = 'banana'\n",
    "result = search_pattern_with_lcp(S, P)\n",
    "check_pattern(result)"
   ]
  }
 ],
 "metadata": {
  "kernelspec": {
   "display_name": "Python 3",
   "language": "python",
   "name": "python3"
  },
  "language_info": {
   "codemirror_mode": {
    "name": "ipython",
    "version": 3
   },
   "file_extension": ".py",
   "mimetype": "text/x-python",
   "name": "python",
   "nbconvert_exporter": "python",
   "pygments_lexer": "ipython3",
   "version": "3.10.0"
  }
 },
 "nbformat": 4,
 "nbformat_minor": 2
}
