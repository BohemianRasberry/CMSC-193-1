{
 "cells": [
  {
   "cell_type": "code",
   "execution_count": 52,
   "metadata": {},
   "outputs": [
    {
     "name": "stdout",
     "output_type": "stream",
     "text": [
      "[176, 442, 703, 1264]\n"
     ]
    }
   ],
   "source": [
    "def detect_intron_from_position(dna_sequence, start_pos):\n",
    "    \"\"\"Detects an intron starting from the 'GT' at start_pos, returns the end position of the intron or None.\"\"\"\n",
    "    if dna_sequence[start_pos:start_pos+2] != 'GT':\n",
    "        return None  \n",
    "    \n",
    "    # Look for 'TACTAAC' within the next 1 to 10 nucleotides\n",
    "    for j in range(start_pos + 2, min(start_pos + 12, len(dna_sequence) - 7)):\n",
    "        if dna_sequence[j:j+7] == 'TACTAAC':\n",
    "            # Look for 'AC' ending within the following 1 to 10 nucleotides\n",
    "            for k in range(j + 7, min(j + 17, len(dna_sequence) - 2)):\n",
    "                if dna_sequence[k:k+2] == 'AC':\n",
    "                    return k + 2  # Return the position just after the 'AC' to continue searching\n",
    "    return None\n",
    "\n",
    "def find_introns_cleaned(dna_sequence):\n",
    "    intron_positions = []\n",
    "    i = 0\n",
    "    while i < len(dna_sequence) - 4:\n",
    "        intron_end = detect_intron_from_position(dna_sequence, i)\n",
    "        if intron_end:\n",
    "            intron_positions.append(i)\n",
    "            i = intron_end  # Move to the position just after the detected intron\n",
    "        else:\n",
    "            i += 1  # Increment if no intron is detected from the current position\n",
    "    print(intron_positions)\n",
    "\n",
    "# Input DNA Sequence and use as seen below\n",
    "new_dna = 'CTGAGGGCTAAATGAGTACGGTATTCTCTTGGTCCAGAAGTTAGTACCTCTTGTAACTTAAGTGAGTCGCGTGTGAGTAGGCCGTAACTCGAGGACGCGGAAGTGATTAAGGTGCTGGAATACCGTCTTGGTGCGGCTACGGATTTGCCATTAGCGGCCGTCCCAGATTTATCAGCGTCATGGCTACTAACTACCTTGCTTGGCTCAGTAGAGTGATTCAGCTTCCTTCACATAACTTGACAAATCCTAAATTCAGCTAGTCCTCCACAAGGAGTTTTGAAACGCAGACTCCCGCGCCAAATCCCAGTCAATACTCGCCATAATTTTAGACTGGTTGTGGAGGTCAATTGTGTGTCAGCTTAATACCGGGCTCATGGCTTCTGAAGTCTCCCTAACTTGGGACATCCACGGTTTCGTTCTCACAGATGGCGAAGAAACTGTTGTACAGCCGTACTAACACTTACAATCACTTCGCGCAGAGACGTGCATTCCAAAAGAGAAGAAATTGGTAGATGGGTACTAACGATTGTGAAAAAAATATCACAATCAGCTCCGACTTCATCGTAGCCGGTCAATCCACATCCCCGTCACGGCCACTGTTTATAAAGAAATAATCCGAACAACGTGGGGAGATCAGGCTTCTTATAAGTGATATAGCGACTACTACACTATCGAAGAAAACCTCCTCGTTCCAGTTCATAATGTGGATACTAACCACAACTGGAGCATACGTCTAAATGTGCGGTAACTTAATGGACACCAGTCCAGTCTAATGACGGAAAGTGGGACAGCCTCCGGACGACCCGGACTTGGTTAAAAGGAATTTGACGTGCGTGCAGCGAAACGTTAGCAACGGCCACCATGGGATAGGCAGAGATCTCGTGCGATGTCACGAAACACATCCAGGATCTCATTAATAACCATTTATGGAAGCCGAGGTAAAGATGCACCAGACACAACTTAAAGAAATATTATGGGTGGAGATCTCCCAAGACACCGGAGCAATAGTGGCACCGGTCTTAGCCCTATTGTGGACCGCATGCCCTAGCAGGATCGGTTGCAGCCGGACTATAATGGGCGTCGTTCCATTTGACGGAATCTAGGTACGCCTCGATCCGAGCGGACAGTTCGTAAACCCACCTGCCGAGGCAGCTTGAGATCTCTTCGGTCGTAATAGGGGATAATTTAACGCCATCAGGAGTCCACGCTAGACTTCTCATGTGCATCGGTATTGACCCCCAAAACTTAACACGACTTGTCCCACGTGTTCTACTAACACCGCCAACAGAAAACACCAGCCTTCACCGCGCTGACGTTCAATGTAACAACGCACTGGAATCTCCGACCCGAAGGAGAAAACTGAAGCATATTTACCGGGGTTGTGCTGATTAGGCCGGGCCTATACAATCAGTACGAGTCTAATCTACTGGCTTGTTGCGACCCTTGATCCATATTCGAATACAGTTCTCAGTTCGGGAGGCAGCCTCCCGCGTATGATAAACAGATGAAGAGTCAAAAGAGCATTTGTGGTCGACGCCTCACAACGGAAGCAGAAGAGGTTGACGTATTA'\n",
    "find_introns_cleaned(new_dna)"
   ]
  }
 ],
 "metadata": {
  "kernelspec": {
   "display_name": "Python 3",
   "language": "python",
   "name": "python3"
  },
  "language_info": {
   "codemirror_mode": {
    "name": "ipython",
    "version": 3
   },
   "file_extension": ".py",
   "mimetype": "text/x-python",
   "name": "python",
   "nbconvert_exporter": "python",
   "pygments_lexer": "ipython3",
   "version": "3.10.0"
  }
 },
 "nbformat": 4,
 "nbformat_minor": 2
}
