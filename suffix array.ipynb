{
 "cells": [
  {
   "cell_type": "markdown",
   "id": "7888af98-7448-462b-8d63-77138d472457",
   "metadata": {},
   "source": [
    "# Naive Suffix Array"
   ]
  },
  {
   "cell_type": "code",
   "execution_count": 2,
   "id": "d392e560-c400-47d5-b14d-dceb12b3ea1f",
   "metadata": {},
   "outputs": [],
   "source": [
    "# Not a great way to build a suffix array, but we'll use it\n",
    "# for the small examples here\n",
    "def naiveBuildSA(t):\n",
    "    satups = sorted([(t[i:], i) for i in range(len(t))])\n",
    "    return list(map(lambda x: x[1], satups))"
   ]
  },
  {
   "cell_type": "code",
   "execution_count": 3,
   "id": "5f23566e-d9a9-49ac-ba49-444c2cf3dac9",
   "metadata": {},
   "outputs": [
    {
     "data": {
      "text/plain": [
       "[6, 5, 2, 3, 0, 4, 1]"
      ]
     },
     "execution_count": 3,
     "metadata": {},
     "output_type": "execute_result"
    }
   ],
   "source": [
    "naiveBuildSA('abaaba$') # works on a simple example"
   ]
  },
  {
   "cell_type": "code",
   "execution_count": 4,
   "id": "24bdd9d7-a47f-4193-ba26-197c2d83726a",
   "metadata": {},
   "outputs": [],
   "source": [
    "def binarySearchSA(t, sa, p):\n",
    "    assert t[-1] == '$' # t already has terminator\n",
    "    assert len(t) == len(sa) # sa is the suffix array for t\n",
    "    if len(t) == 1: return 1\n",
    "    l, r = 0, len(sa) # invariant: sa[l] < p < sa[r]\n",
    "    while True:\n",
    "        c = (l + r) // 2\n",
    "        # determine whether p < T[sa[c]:] by doing comparisons\n",
    "        # starting from left-hand sides of p and T[sa[c]:]\n",
    "        plt = True # assume p < T[sa[c]:] until proven otherwise\n",
    "        i = 0\n",
    "        while i < len(p) and sa[c]+i < len(t):\n",
    "            if p[i] < t[sa[c]+i]:\n",
    "                break # p < T[sa[c]:]\n",
    "            elif p[i] > t[sa[c]+i]:\n",
    "                plt = False\n",
    "                break # p > T[sa[c]:]\n",
    "            i += 1 # tied so far\n",
    "        if plt:\n",
    "            if c == l + 1: return c\n",
    "            r = c\n",
    "        else:\n",
    "            if c == r - 1: return r\n",
    "            l = c"
   ]
  },
  {
   "cell_type": "code",
   "execution_count": 5,
   "id": "29e5db24-b377-450a-92b0-2fd2e5ef2afb",
   "metadata": {},
   "outputs": [
    {
     "data": {
      "text/plain": [
       "3"
      ]
     },
     "execution_count": 5,
     "metadata": {},
     "output_type": "execute_result"
    }
   ],
   "source": [
    "t = 'abaaba$'\n",
    "sa = naiveBuildSA(t)\n",
    "binarySearchSA(t, sa, 'aba')"
   ]
  },
  {
   "cell_type": "code",
   "execution_count": 6,
   "id": "394562b6-6cdb-4ed4-bb0c-3547efca50cc",
   "metadata": {},
   "outputs": [
    {
     "data": {
      "text/plain": [
       "7"
      ]
     },
     "execution_count": 6,
     "metadata": {},
     "output_type": "execute_result"
    }
   ],
   "source": [
    "binarySearchSA(t, sa, 'bb') # p is greater than all suffixes"
   ]
  },
  {
   "cell_type": "code",
   "execution_count": 7,
   "id": "b8c1b790-1a74-4de8-a052-8d1b41b66f23",
   "metadata": {},
   "outputs": [
    {
     "data": {
      "text/plain": [
       "2"
      ]
     },
     "execution_count": 7,
     "metadata": {},
     "output_type": "execute_result"
    }
   ],
   "source": [
    "binarySearchSA(t, sa, 'aa')"
   ]
  },
  {
   "cell_type": "markdown",
   "id": "97063c0a-1eb0-4690-89db-73f4db3467f4",
   "metadata": {},
   "source": [
    "# Longest Common Prefix"
   ]
  },
  {
   "cell_type": "code",
   "execution_count": 8,
   "id": "2485a672-d937-468f-8bb4-1da96cb89e5c",
   "metadata": {},
   "outputs": [],
   "source": [
    "# Simple function calculating LCP of two string\n",
    "def lcp(x, y):\n",
    "    for i in range(min(len(x), len(y))):\n",
    "        if x[i] != y[i]: return i\n",
    "    return min(len(x), len(y))"
   ]
  },
  {
   "cell_type": "code",
   "execution_count": 9,
   "id": "c41c6c52-c028-4efc-9737-fa4cbd1acd22",
   "metadata": {},
   "outputs": [
    {
     "data": {
      "text/plain": [
       "4"
      ]
     },
     "execution_count": 9,
     "metadata": {},
     "output_type": "execute_result"
    }
   ],
   "source": [
    "lcp('start', 'stark')"
   ]
  },
  {
   "cell_type": "code",
   "execution_count": 10,
   "id": "a9146456-3bc6-4e28-a5f6-5983f79fabf9",
   "metadata": {},
   "outputs": [
    {
     "data": {
      "text/plain": [
       "4"
      ]
     },
     "execution_count": 10,
     "metadata": {},
     "output_type": "execute_result"
    }
   ],
   "source": [
    "lcp('start', 'star')"
   ]
  },
  {
   "cell_type": "code",
   "execution_count": 11,
   "id": "650aa3c7-750f-41de-84f9-3d90bd2596fb",
   "metadata": {},
   "outputs": [
    {
     "data": {
      "text/plain": [
       "0"
      ]
     },
     "execution_count": 11,
     "metadata": {},
     "output_type": "execute_result"
    }
   ],
   "source": [
    "lcp('yes', 'no')"
   ]
  },
  {
   "cell_type": "code",
   "execution_count": 13,
   "id": "9766e99d-0341-4fe5-9bf7-c953e5299281",
   "metadata": {},
   "outputs": [],
   "source": [
    "def binarySearchSA_lcp(t, sa, p):\n",
    "    assert t[-1] == '$' # t already has terminator\n",
    "    assert len(t) == len(sa) # sa is the suffix array for t\n",
    "    if len(t) == 1: return 1\n",
    "    l, r = 0, len(sa) # invariant: sa[l] < p < sa[r]\n",
    "    lcp_lp, lcp_rp = 0, 0\n",
    "    while True:\n",
    "        c = (l + r) // 2\n",
    "        # determine whether p < T[sa[c]:] by doing comparisons\n",
    "        # starting from left-hand sides of p and T[sa[c]:]\n",
    "        plt = True # assume p < T[sa[c]:] until proven otherwise\n",
    "        i = min(lcp_lp, lcp_rp)\n",
    "        while i < len(p) and sa[c]+i < len(t):\n",
    "            if p[i] < t[sa[c]+i]:\n",
    "                break # p < T[sa[c]:]\n",
    "            elif p[i] > t[sa[c]+i]:\n",
    "                plt = False\n",
    "                break # p > T[sa[c]:]\n",
    "            i += 1 # tied so far\n",
    "        if plt:\n",
    "            if c == l + 1: return c\n",
    "            r = c\n",
    "            lcp_rp = i\n",
    "        else:\n",
    "            if c == r - 1: return r\n",
    "            l = c\n",
    "            lcp_lp = i"
   ]
  },
  {
   "cell_type": "code",
   "execution_count": 14,
   "id": "ea4caa6b-1297-4ab2-9b06-051c8a59d444",
   "metadata": {},
   "outputs": [
    {
     "data": {
      "text/plain": [
       "3"
      ]
     },
     "execution_count": 14,
     "metadata": {},
     "output_type": "execute_result"
    }
   ],
   "source": [
    "binarySearchSA_lcp1(t, sa, 'aba')"
   ]
  },
  {
   "cell_type": "code",
   "execution_count": 15,
   "id": "a34a1a6e-91fe-4f6d-954a-2237bc910bd0",
   "metadata": {},
   "outputs": [
    {
     "data": {
      "text/plain": [
       "7"
      ]
     },
     "execution_count": 15,
     "metadata": {},
     "output_type": "execute_result"
    }
   ],
   "source": [
    "binarySearchSA_lcp1(t, sa, 'bb')"
   ]
  },
  {
   "cell_type": "code",
   "execution_count": 16,
   "id": "cea50223-57e7-4a42-b63e-8252752a7d71",
   "metadata": {},
   "outputs": [
    {
     "data": {
      "text/plain": [
       "2"
      ]
     },
     "execution_count": 16,
     "metadata": {},
     "output_type": "execute_result"
    }
   ],
   "source": [
    "binarySearchSA_lcp1(t, sa, 'aa')"
   ]
  },
  {
   "cell_type": "code",
   "execution_count": null,
   "id": "2e858dcf-9915-4f22-ac23-63023810463c",
   "metadata": {},
   "outputs": [],
   "source": []
  }
 ],
 "metadata": {
  "kernelspec": {
   "display_name": "Python 3 (ipykernel)",
   "language": "python",
   "name": "python3"
  },
  "language_info": {
   "codemirror_mode": {
    "name": "ipython",
    "version": 3
   },
   "file_extension": ".py",
   "mimetype": "text/x-python",
   "name": "python",
   "nbconvert_exporter": "python",
   "pygments_lexer": "ipython3",
   "version": "3.12.1"
  }
 },
 "nbformat": 4,
 "nbformat_minor": 5
}
