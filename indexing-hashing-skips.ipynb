{
 "cells": [
  {
   "cell_type": "code",
   "execution_count": 7,
   "metadata": {},
   "outputs": [],
   "source": [
    "class Index(object): # Changed to \n",
    "    def __init__(self, t, k, ival):\n",
    "        ''' Create index from all substrings of size 'k' with 'ival' skips '''\n",
    "        self.k = k  # k-mer length (k)\n",
    "        self.ival = ival  # Interval for skipping\n",
    "        self.index = {}\n",
    "        for i in range(len(t) - k + 1):  # For each possible k-mer\n",
    "            if i % ival == 0:  # Apply skips based on interval value\n",
    "                kmer = t[i:i+k]\n",
    "                if kmer not in self.index:\n",
    "                    self.index[kmer] = [i]\n",
    "                else:\n",
    "                    self.index[kmer].append(i)\n",
    "\n",
    "    def query(self, p):\n",
    "        ''' Return index hits for first k-mer of P with consideration of skips '''\n",
    "        kmer = p[:self.k]  # query with first k-mer\n",
    "        return self.index.get(kmer, [])[:]  # Returns p \n",
    "\n",
    "    def displayIndex(self):\n",
    "        ''' Displays the content of the index '''\n",
    "        for kmer, positions in self.index.items():\n",
    "            print(f\"{kmer}: {positions}\")"
   ]
  },
  {
   "cell_type": "code",
   "execution_count": 21,
   "metadata": {},
   "outputs": [],
   "source": [
    "def queryIndex(p, t, index):\n",
    "    k = index.k\n",
    "    offsets = []\n",
    "    for i in index.query(p):\n",
    "        if p[k:] == t[i+k:i+len(p)]:  # verify that rest of P matches\n",
    "            offsets.append(i)\n",
    "    return offsets"
   ]
  },
  {
   "cell_type": "code",
   "execution_count": 24,
   "metadata": {},
   "outputs": [],
   "source": [
    "t = 'ACTTGGAGATCTTTGAGGCTAGGTATTCGGGATCGAAGCTCATTTCGGGGATCGATTACGATATGGTGGGTATTCGGGA'\n",
    "p = 'GGTATTCGGGA'"
   ]
  },
  {
   "cell_type": "code",
   "execution_count": 23,
   "metadata": {},
   "outputs": [],
   "source": [
    "# Index with k = 4 and ival = 2\n",
    "index = Index(t, 4, 2)"
   ]
  },
  {
   "cell_type": "code",
   "execution_count": 25,
   "metadata": {},
   "outputs": [
    {
     "name": "stdout",
     "output_type": "stream",
     "text": [
      "[68]\n"
     ]
    }
   ],
   "source": [
    "print(queryIndex(p, t, index))"
   ]
  },
  {
   "cell_type": "code",
   "execution_count": 27,
   "metadata": {},
   "outputs": [
    {
     "name": "stdout",
     "output_type": "stream",
     "text": [
      "[8, 24, 31, 41, 50, 54, 60, 62, 71]\n"
     ]
    }
   ],
   "source": [
    "# Trying with smaller pattern\n",
    "index = Index(t, 2, 1)\n",
    "print(queryIndex('AT', t, index))"
   ]
  }
 ],
 "metadata": {
  "kernelspec": {
   "display_name": "Python 3",
   "language": "python",
   "name": "python3"
  },
  "language_info": {
   "codemirror_mode": {
    "name": "ipython",
    "version": 3
   },
   "file_extension": ".py",
   "mimetype": "text/x-python",
   "name": "python",
   "nbconvert_exporter": "python",
   "pygments_lexer": "ipython3",
   "version": "3.10.0"
  }
 },
 "nbformat": 4,
 "nbformat_minor": 2
}
