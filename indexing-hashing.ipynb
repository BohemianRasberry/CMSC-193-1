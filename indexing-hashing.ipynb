{
 "cells": [
  {
   "cell_type": "code",
   "execution_count": 1,
   "id": "6579f7fe-d7c3-412a-8687-2fad7e0e005b",
   "metadata": {},
   "outputs": [],
   "source": [
    "class Index(object):\n",
    "    def __init__(self, t, k):\n",
    "        ''' Create index from all substrings of size 'length' '''\n",
    "        self.k = k  # k-mer length (k)\n",
    "        self.index = {}\n",
    "        for i in range(len(t) - k + 1):  # for each k-mer\n",
    "            kmer = t[i:i+k]\n",
    "            if kmer not in self.index:\n",
    "                self.index[kmer] = [i]\n",
    "            else:\n",
    "                self.index[kmer].append(i)\n",
    "            # could also have used collections.defaultdict\n",
    "    \n",
    "    def query(self, p):\n",
    "        ''' Return index hits for first k-mer of P '''\n",
    "        kmer = p[:self.k]  # query with first k-mer\n",
    "        return self.index.get(kmer, [])[:]"
   ]
  },
  {
   "cell_type": "code",
   "execution_count": 2,
   "id": "1d0f1458-e8b3-4217-8749-3bb41aed569e",
   "metadata": {},
   "outputs": [],
   "source": [
    "def queryIndex(p, t, index):\n",
    "    k = index.k\n",
    "    offsets = []\n",
    "    for i in index.query(p):\n",
    "        if p[k:] == t[i+k:i+len(p)]:  # verify that rest of P matches\n",
    "            offsets.append(i)\n",
    "    return offsets"
   ]
  },
  {
   "cell_type": "code",
   "execution_count": 3,
   "id": "8698424a-3f1e-4241-b97c-38359e043628",
   "metadata": {},
   "outputs": [],
   "source": [
    "t = 'ACTTGGAGATCTTTGAGGCTAGGTATTCGGGATCGAAGCTCATTTCGGGGATCGATTACGATATGGTGGGTATTCGGGA'\n",
    "p = 'GGTATTCGGGA'"
   ]
  },
  {
   "cell_type": "code",
   "execution_count": 4,
   "id": "38325648-39ad-4dae-a788-3107485ed4e8",
   "metadata": {},
   "outputs": [
    {
     "name": "stdout",
     "output_type": "stream",
     "text": [
      "[21, 68]\n"
     ]
    }
   ],
   "source": [
    "index = Index(t, 4)\n",
    "print(queryIndex(p, t, index))"
   ]
  },
  {
   "cell_type": "code",
   "execution_count": 5,
   "id": "e092c82b-7223-4d56-a94c-1b849b5968c7",
   "metadata": {},
   "outputs": [
    {
     "name": "stdout",
     "output_type": "stream",
     "text": [
      "[]\n"
     ]
    }
   ],
   "source": [
    "print(queryIndex('TTTT', t, index))"
   ]
  },
  {
   "cell_type": "code",
   "execution_count": 7,
   "id": "a94b6500-584d-407e-9288-aaca1112fb8c",
   "metadata": {},
   "outputs": [
    {
     "name": "stdout",
     "output_type": "stream",
     "text": [
      "[8, 24, 31, 41, 50, 54, 60, 62, 71]\n"
     ]
    }
   ],
   "source": [
    "# Since our pattern length < k, we need to re-index the text\n",
    "index = Index(t, 2)\n",
    "print(queryIndex('AT', t, index))"
   ]
  },
  {
   "cell_type": "code",
   "execution_count": null,
   "id": "c61888df-7669-43ae-9305-28358565619b",
   "metadata": {},
   "outputs": [],
   "source": []
  }
 ],
 "metadata": {
  "kernelspec": {
   "display_name": "Python 3 (ipykernel)",
   "language": "python",
   "name": "python3"
  },
  "language_info": {
   "codemirror_mode": {
    "name": "ipython",
    "version": 3
   },
   "file_extension": ".py",
   "mimetype": "text/x-python",
   "name": "python",
   "nbconvert_exporter": "python",
   "pygments_lexer": "ipython3",
   "version": "3.12.1"
  }
 },
 "nbformat": 4,
 "nbformat_minor": 5
}
